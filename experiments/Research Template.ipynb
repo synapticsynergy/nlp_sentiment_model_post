{
 "cells": [
  {
   "cell_type": "markdown",
   "id": "94d0e0c0",
   "metadata": {},
   "source": [
    "# Title"
   ]
  },
  {
   "cell_type": "markdown",
   "id": "0e1d4871",
   "metadata": {},
   "source": [
    "Every scientific paper must have a self-explanatory title. By reading the title, the work being reported should be clear to the reader without having to read the paper itself. The title, \"A Biology Lab Report\", tells the reader nothing. An example of a good, self-explanatory title would be: \"The Effects of Light and Temperature on the Growth of Populations of the Bacterium, Escherichia coli \". This title reports exactly what the researcher has done by stating three things:\n",
    "\n",
    "1. The environmental factors that were manipulated (light, temperature).\n",
    "\n",
    "2. The parameter that was measured (growth).\n",
    "\n",
    "3. The specific organism that was studied (the bacterium, Escherichia coli).\n",
    "\n",
    "If the title had been only \"Effects of Light and Temperature on Escherichia coli \", the reader would have to guess which parameters were measured. (That is, were the effects on reproduction, survival, dry weight or something else?) If the title had been \"Effect of Environmental Factors on Growth of Escherichia coli \", the reader would not know which environmental factors were manipulated. If the title had been \"Effects of Light and Temperature on the Growth of an Organism\", then the reader would not know which organism was studied. In any of the above cases, the reader would be forced to read more of the paper to understand what the researcher had done.\n",
    "\n",
    "Exceptions do occur: If several factors were manipulated, all of them do not have to be listed. Instead, \"Effects of Several Environmental Factors on Growth of Populations ofEscherichia coli \" (if more than two or three factors were manipulated) would be appropriate. The same applies if more than two or three organisms were studied. For example, \"Effects of Light and Temperature on the Growth of Four Species of Bacteria\" would be correct. The researcher would then include the names of the bacteria in the Materials and Methods section of the paper."
   ]
  },
  {
   "cell_type": "markdown",
   "id": "81081b40",
   "metadata": {},
   "source": [
    "# Abstract"
   ]
  },
  {
   "cell_type": "markdown",
   "id": "d3fd4001",
   "metadata": {},
   "source": [
    "The abstract section in a scientific paper is a concise digest of the content of the paper. An abstract is more than a summary. A summary is a brief restatement of preceding text that is intended to orient a reader who has studied the preceding text. An abstract is intended to be self-explanatory without reference to the paper, but is not a substitute for the paper.\n",
    "\n",
    "The abstract should present, in about 250 words, the purpose of the paper, general materials and methods (including, if any, the scientific and common names of organisms), summarized results, and the major conclusions. Do not include any information that is not contained in the body of the paper. Exclude detailed descriptions of organisms, materials and methods. Tables or figures, references to tables or figures, or references to literature cited usually are not included in this section. The abstract is usually written last. An easy way to write the abstract is to extract the most important points from each section of the paper and then use those points to construct a brief description of your study."
   ]
  },
  {
   "cell_type": "markdown",
   "id": "a9583cc3",
   "metadata": {},
   "source": [
    "# Introduction (Problem definition, Summary of topic research, Hypothesis)"
   ]
  },
  {
   "cell_type": "markdown",
   "id": "61d68796",
   "metadata": {},
   "source": [
    "The Introduction is the statement of the problem that you investigated. It should give readers enough information to appreciate your specific objectives within a larger theoretical framework. After placing your work in a broader context, you should state the specific question(s) to be answered. This section may also include background information about the problem such as a summary of any research that has been done on the problem in the past and how the present experiment will help to clarify or expand the knowledge in this general area. All background information gathered from other sources must, of course, be appropriately cited. (Proper citation of references will be described later.)\n",
    "\n",
    "A helpful strategy in this section is to go from the general, theoretical framework to your specific question. However, do not make the Introduction too broad. Remember that you are writing for classmates who have knowledge similar to yours. Present only the most relevant ideas and get quickly to the point of the paper. For examples, see the Appendix."
   ]
  },
  {
   "cell_type": "code",
   "execution_count": 2,
   "id": "85f79283",
   "metadata": {},
   "outputs": [
    {
     "data": {
      "image/png": "[encoded data removed]",
      "text/plain": [
       "<Figure size 432x288 with 1 Axes>"
      ]
     },
     "metadata": {
      "needs_background": "light"
     },
     "output_type": "display_data"
    }
   ],
   "source": [
    "\"\"\"Use the following syntax to run external jupyter notebooks & load in data visualizations. This allows for some \n",
    "separation of concerns, & reduces code duplication accross experiments. The observations dir is within the \n",
    "experiments dir, which seems to be required in order to call one notebook from another.\n",
    "\"\"\"\n",
    "%run './observations/example_observations.ipynb'"
   ]
  },
  {
   "cell_type": "markdown",
   "id": "d127228d",
   "metadata": {},
   "source": [
    "# Approach/Materials and Methods (experimental design)"
   ]
  },
  {
   "cell_type": "markdown",
   "id": "f393669f",
   "metadata": {},
   "source": [
    "This section explains how and, where relevant, when the experiment was done. The researcher describes the experimental design, the apparatus, methods of gathering data and type of control. If any work was done in a natural habitat, the worker describes the study area, states its location and explains when the work was done. If specimens were collected for study, where and when that material was collected are stated. The general rule to remember is that the Materials and Methods section should be detailed and clear enough so that any reader knowledgeable in basic scientific techniques could duplicate the study if she/he wished to do so. For examples, see the Appendix.\n",
    "\n",
    "Do not write this section as though it were directions in a laboratory exercise book. Instead of writing:\n",
    "\n",
    "First pour agar into six petri plates. Then inoculate the plates with the bacteria. Then put the plates into the incubator . . .\n",
    "\n",
    "Simply describe how the experiment was done:\n",
    "\n",
    "Six petri plates were prepared with agar and inoculated with the bacteria. The plates were incubated for ten hours.\n",
    "\n",
    "Also, do not list the equipment used in the experiment. The materials that were used in the research are simply mentioned in the narrative as the experimental procedure is described in detail. If well-known methods were used without changes, simply name the methods (e.g., standard microscopic techniques; standard spectrophotometric techniques). If modified standard techniques were used, describe the changes."
   ]
  },
  {
   "cell_type": "code",
   "execution_count": 5,
   "id": "90947e5b",
   "metadata": {},
   "outputs": [
    {
     "name": "stdout",
     "output_type": "stream",
     "text": [
      "this is a test\n"
     ]
    }
   ],
   "source": [
    "\"\"\"Use the magic %load function to import code from src and use for your experiments. This will allow you to use test \n",
    "driven development, while still enabling data visualization, reproducibility, and flexible experimentation within the \n",
    "notebook.\n",
    "\n",
    "You can track previous experiments by duplicating the previous jupyter notebook and making the desired changes. The \n",
    "easiest way to make results available for others to see quickly is to git commit experiments to github and share that \n",
    "link.\n",
    "\"\"\"\n",
    "# %load ../src/models/example_model.py\n",
    "print('this is a test')"
   ]
  },
  {
   "cell_type": "markdown",
   "id": "216dee69",
   "metadata": {},
   "source": [
    "# Results (run experiment)"
   ]
  },
  {
   "cell_type": "markdown",
   "id": "a54552d2",
   "metadata": {},
   "source": [
    "Here the researcher presents summarized data for inspection using narrative text and, where appropriate, tables and figures to display summarized data. Only the results are presented. No interpretation of the data or conclusions about what the data might mean are given in this section. Data assembled in tables and/or figures should supplement the text and present the data in an easily understandable form. Do not present raw data! If tables and/or figures are used, they must be accompanied by narrative text. Do not repeat extensively in the text the data you have presented in tables and figures. But, do not restrict yourself to passing comments either. (For example, only stating that \"Results are shown in Table 1.\" is not appropriate.) The text describes the data presented in the tables and figures and calls attention to the important data that the researcher will discuss in the Discussion section and will use to support Conclusions. (Rules to follow when constructing and presenting figures and tables are presented in a later section of this guide.)"
   ]
  },
  {
   "cell_type": "markdown",
   "id": "8e58e09e",
   "metadata": {},
   "source": [
    "# Discussion (discuss results, future research ideas)"
   ]
  },
  {
   "cell_type": "markdown",
   "id": "55933f13",
   "metadata": {},
   "source": [
    "Here, the researcher interprets the data in terms of any patterns that were observed, any relationships among experimental variables that are important and any correlations between variables that are discernible. The author should include any explanations of how the results differed from those hypothesized, or how the results were either different from or similar to those of any related experiments performed by other researchers. Remember that experiments do not always need to show major differences or trends to be important. \"Negative\" results also need to be explained and may represent something important--perhaps a new or changed focus for your research.\n",
    "\n",
    "A useful strategy in discussing your experiment is to relate your specific results back to the broad theoretical context presented in the Introduction. Since your Introduction went from the general to a specific question, going from the specific back to the general will help to tie your ideas and arguments together."
   ]
  },
  {
   "cell_type": "markdown",
   "id": "d7387c75",
   "metadata": {},
   "source": [
    "# Conclusions"
   ]
  },
  {
   "cell_type": "markdown",
   "id": "c45bd638",
   "metadata": {},
   "source": [
    "This section simply states what the researcher thinks the data mean, and, as such, should relate directly back to the problem/question stated in the introduction. This section should not offer any reasons for those particular conclusions--these should have been presented in the Discussion section. By looking at only the Introduction and Conclusions sections, a reader should have a good idea of what the researcher has investigated and discovered even though the specific details of how the work was done would not be known."
   ]
  },
  {
   "cell_type": "markdown",
   "id": "d2bc37e7",
   "metadata": {},
   "source": [
    "# Acknowledgments"
   ]
  },
  {
   "cell_type": "markdown",
   "id": "c0cb9e55",
   "metadata": {},
   "source": [
    "In this section you should give credit to people who have helped you with the research or with writing the paper. If your work has been supported by a grant, you would also give credit for that in this section."
   ]
  },
  {
   "cell_type": "markdown",
   "id": "6e587c39",
   "metadata": {},
   "source": [
    "# Literature Cited"
   ]
  },
  {
   "cell_type": "markdown",
   "id": "591d446a",
   "metadata": {},
   "source": [
    "This section lists, in alphabetical order by author, all published information that was referred to anywhere in the text of the paper. It provides the readers with the information needed should they want to refer to the original literature on the general problem. Note that the Literature Cited section includes only those references that were actually mentioned (cited) in the paper. Any other information that the researcher may have read about the problem but did not mention in the paper is not included in this section. This is why the section is called \"Literature Cited\" instead of \"References\" or \"Bibliography\".\n",
    "\n",
    "The system of citing reference material in scientific journals varies with the particular journal. The method that you will follow is the \"author-date\" system. Listed below are several examples of how citations should be presented in the text of your paper. The name(s) of the author(s) and year of publication are included in the body of the text. Sentence structure determines the placement of the parentheses.\n",
    "\n",
    "One author: 'Scott's (1990) model fails to ...' or 'The stream model (Scott 1990) is ...'\n",
    "\n",
    "Two authors: 'Libby and Libby (1991) show...' or 'Previous moose migration studies (Libby and Libby 1991)...'\n",
    "\n",
    "Three or more authors: 'Roche et al. (1991) reported that ...' or 'During April, moose sightings increased over those in a previous study (Roche et al. 1991) .....'\n",
    "\n",
    "Entries in the Literature Cited section are listed alphabetically by author(s) and chronologically for papers by the same author(s). The following citations illustrate the details of punctuation and order of information for a journal article, book, Internet source, and your laboratory packet.\n",
    "\n",
    "Schneider, M.J., Troxler, R.F. and Voth, P.D. 1967. Occurrence of indoleacetic acid in the bryophytes. Bot. Gaz. 28(3): 174-179.\n",
    "\n",
    "Stebbins, G.L. 1977. Processes of Organic Evolution. Prentice-Hall, New Jersey. 269 pp.\n",
    "\n",
    "MSW Scientific Names: Microtus ochrogaster. Online. Smithsonian Institution. Available: http://www.nmnh.si.edu/cgi-bin/wdb/msw/names/query/22128. updated August 8, 1996 [accessed 8/10/98]\n",
    "\n",
    "Colby Biology Department. 1998. Salt Tolerance in Phaseolus vulgaris. In: Introduction to Biology: Organismal Biology. Waterville, ME: Colby Custom Publishing\n",
    "\n",
    "Generally, most references will be to the primary literature (i.e., journal articles) and, to a lesser extent, books. Popular literature and the Internet should be used sparingly and with caution. Other sources such as book chapters and pamphlets typically have their own specific citation formats. If necessary, be sure to find out what these formats are and use them appropriately.\n",
    "\n",
    "For a much more detailed discussion about writing scientific papers, consult: CBE Style Manual Committee. 1983. CBE Style Manual: A Guide for Authors, Editors and Publishers in the Biological Sciences. 5th Edition, revised and expanded. Council of Biology Editors, Inc., Bethesda, Maryland.\n",
    "\n",
    "This guide is based on a paper by Gubanich, A.A. 1977. Writing the scientific paper in the investigative lab. Amer. Biol. Teacher, 39(1): 27-34."
   ]
  },
  {
   "cell_type": "markdown",
   "id": "9472375b",
   "metadata": {},
   "source": [
    "#### The content of this guide (besides the code block) is originally from: https://www.colby.edu/biology/BI17x/writing_papers.html"
   ]
  },
  {
   "cell_type": "code",
   "execution_count": null,
   "id": "0c165e77",
   "metadata": {},
   "outputs": [],
   "source": []
  }
 ],
 "metadata": {
  "kernelspec": {
   "display_name": "Python 3 (ipykernel)",
   "language": "python",
   "name": "python3"
  },
  "language_info": {
   "codemirror_mode": {
    "name": "ipython",
    "version": 3
   },
   "file_extension": ".py",
   "mimetype": "text/x-python",
   "name": "python",
   "nbconvert_exporter": "python",
   "pygments_lexer": "ipython3",
   "version": "3.8.10"
  }
 },
 "nbformat": 4,
 "nbformat_minor": 5
}
